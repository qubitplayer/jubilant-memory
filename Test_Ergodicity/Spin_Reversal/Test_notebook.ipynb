{
 "metadata": {
  "language_info": {
   "codemirror_mode": {
    "name": "ipython",
    "version": 3
   },
   "file_extension": ".py",
   "mimetype": "text/x-python",
   "name": "python",
   "nbconvert_exporter": "python",
   "pygments_lexer": "ipython3",
   "version": "3.9.16"
  },
  "orig_nbformat": 4,
  "kernelspec": {
   "name": "python3",
   "display_name": "Python 3.9.16 64-bit"
  },
  "interpreter": {
   "hash": "4cd7ab41f5fca4b9b44701077e38c5ffd31fe66a6cab21e0214b68d958d0e462"
  }
 },
 "nbformat": 4,
 "nbformat_minor": 2,
 "cells": [
  {
   "cell_type": "code",
   "execution_count": 66,
   "metadata": {},
   "outputs": [],
   "source": [
    "from dwave.system import EmbeddingComposite, DWaveSampler\n",
    "import numpy as np\n",
    "\n",
    "h = np.loadtxt('h.txt')\n",
    "J = np.loadtxt('J.txt')\n",
    "\n",
    "sampler = EmbeddingComposite(DWaveSampler(solver={'qpu': True}))"
   ]
  },
  {
   "cell_type": "code",
   "execution_count": 85,
   "metadata": {},
   "outputs": [],
   "source": [
    "outputname = \"Trial.txt\""
   ]
  },
  {
   "cell_type": "code",
   "execution_count": 70,
   "metadata": {},
   "outputs": [],
   "source": [
    "results = sampler.sample_ising(h,J, num_reads=10, num_spin_reversal_transforms=10)"
   ]
  },
  {
   "cell_type": "code",
   "execution_count": 80,
   "metadata": {},
   "outputs": [
    {
     "output_type": "stream",
     "name": "stdout",
     "text": [
      "[([-1,  1,  1,  1,  1,  1, -1, -1,  1, -1,  1,  1, -1, -1, -1, -1,  1, -1, -1,  1, -1, -1,  1, -1, -1, -1, -1, -1, -1, -1, -1, -1, -1,  1, -1,  1], -27., 1, 0.)]\n"
     ]
    }
   ],
   "source": [
    "print(sampleset.record)"
   ]
  },
  {
   "cell_type": "code",
   "execution_count": 86,
   "metadata": {},
   "outputs": [
    {
     "output_type": "stream",
     "name": "stdout",
     "text": [
      "Energy =  -31.0\n{'timing': {'qpu_delay_time_per_sample': 21.02, 'post_processing_overhead_time': 30914.0, 'qpu_access_time': 69373.29, 'qpu_access_overhead_time': 0.0, 'qpu_programming_time': 68653.69, 'total_post_processing_time': 30914.0, 'qpu_sampling_time': 719.6, 'qpu_anneal_time_per_sample': 20.0, 'qpu_readout_time_per_sample': 30.94}, 'problem_id': '3f2dc82d-7be3-455f-9ade-a34536f56840'}\n([ 1,  1, -1, -1,  1,  1, -1,  1,  1,  1, -1,  1,  1, -1, -1,  1, -1,  1, -1, -1, -1, -1, -1, -1,  1, -1, -1,  1, -1, -1, -1,  1,  1, -1,  1, -1], -31., 1, 0.)\nEnergy =  -30.0\n{'timing': {'qpu_delay_time_per_sample': 21.02, 'post_processing_overhead_time': 30914.0, 'qpu_access_time': 69373.29, 'qpu_access_overhead_time': 0.0, 'qpu_programming_time': 68653.69, 'total_post_processing_time': 30914.0, 'qpu_sampling_time': 719.6, 'qpu_anneal_time_per_sample': 20.0, 'qpu_readout_time_per_sample': 30.94}, 'problem_id': '3f2dc82d-7be3-455f-9ade-a34536f56840'}\n([ 1,  1, -1, -1, -1,  1, -1, -1,  1,  1,  1,  1,  1, -1, -1, -1, -1,  1, -1, -1, -1, -1, -1, -1, -1, -1, -1, -1, -1, -1, -1, -1,  1,  1,  1,  1], -30., 1, 0.)\nEnergy =  -29.0\n{'timing': {'qpu_delay_time_per_sample': 21.02, 'post_processing_overhead_time': 30914.0, 'qpu_access_time': 69373.29, 'qpu_access_overhead_time': 0.0, 'qpu_programming_time': 68653.69, 'total_post_processing_time': 30914.0, 'qpu_sampling_time': 719.6, 'qpu_anneal_time_per_sample': 20.0, 'qpu_readout_time_per_sample': 30.94}, 'problem_id': '3f2dc82d-7be3-455f-9ade-a34536f56840'}\n([-1,  1,  1,  1, -1,  1, -1, -1,  1,  1,  1,  1, -1, -1, -1, -1,  1,  1, -1, -1,  1, -1,  1, -1, -1, -1, -1, -1, -1, -1, -1, -1,  1,  1,  1,  1], -29., 1, 0.)\nEnergy =  -29.0\n{'timing': {'qpu_delay_time_per_sample': 21.02, 'post_processing_overhead_time': 30914.0, 'qpu_access_time': 69373.29, 'qpu_access_overhead_time': 0.0, 'qpu_programming_time': 68653.69, 'total_post_processing_time': 30914.0, 'qpu_sampling_time': 719.6, 'qpu_anneal_time_per_sample': 20.0, 'qpu_readout_time_per_sample': 30.94}, 'problem_id': '3f2dc82d-7be3-455f-9ade-a34536f56840'}\n([ 1,  1, -1,  1, -1, -1,  1, -1,  1,  1,  1,  1,  1, -1,  1, -1, -1, -1,  1, -1, -1, -1, -1, -1, -1, -1, -1, -1,  1, -1, -1, -1,  1,  1, -1,  1], -29., 1, 0.)\nEnergy =  -29.0\n{'timing': {'qpu_delay_time_per_sample': 21.02, 'post_processing_overhead_time': 30914.0, 'qpu_access_time': 69373.29, 'qpu_access_overhead_time': 0.0, 'qpu_programming_time': 68653.69, 'total_post_processing_time': 30914.0, 'qpu_sampling_time': 719.6, 'qpu_anneal_time_per_sample': 20.0, 'qpu_readout_time_per_sample': 30.94}, 'problem_id': '3f2dc82d-7be3-455f-9ade-a34536f56840'}\n([ 1,  1, -1,  1, -1,  1, -1, -1,  1,  1,  1,  1,  1, -1,  1, -1, -1,  1, -1, -1, -1, -1,  1, -1, -1, -1, -1, -1,  1, -1, -1, -1,  1,  1, -1,  1], -29., 1, 0.)\nEnergy =  -29.0\n{'timing': {'qpu_delay_time_per_sample': 21.02, 'post_processing_overhead_time': 30914.0, 'qpu_access_time': 69373.29, 'qpu_access_overhead_time': 0.0, 'qpu_programming_time': 68653.69, 'total_post_processing_time': 30914.0, 'qpu_sampling_time': 719.6, 'qpu_anneal_time_per_sample': 20.0, 'qpu_readout_time_per_sample': 30.94}, 'problem_id': '3f2dc82d-7be3-455f-9ade-a34536f56840'}\n([ 1,  1, -1, -1,  1,  1, -1, -1,  1,  1, -1,  1,  1, -1, -1,  1, -1,  1, -1, -1, -1, -1, -1, -1,  1, -1, -1,  1, -1, -1, -1, -1,  1, -1,  1, -1], -29., 1, 0.)\nEnergy =  -28.0\n{'timing': {'qpu_delay_time_per_sample': 21.02, 'post_processing_overhead_time': 30914.0, 'qpu_access_time': 69373.29, 'qpu_access_overhead_time': 0.0, 'qpu_programming_time': 68653.69, 'total_post_processing_time': 30914.0, 'qpu_sampling_time': 719.6, 'qpu_anneal_time_per_sample': 20.0, 'qpu_readout_time_per_sample': 30.94}, 'problem_id': '3f2dc82d-7be3-455f-9ade-a34536f56840'}\n([-1,  1,  1, -1,  1,  1, -1, -1,  1, -1,  1,  1, -1, -1, -1, -1,  1,  1, -1,  1, -1, -1, -1, -1, -1, -1, -1, -1, -1, -1, -1, -1, -1,  1, -1,  1], -28., 1, 0.)\nEnergy =  -28.0\n{'timing': {'qpu_delay_time_per_sample': 21.02, 'post_processing_overhead_time': 30914.0, 'qpu_access_time': 69373.29, 'qpu_access_overhead_time': 0.0, 'qpu_programming_time': 68653.69, 'total_post_processing_time': 30914.0, 'qpu_sampling_time': 719.6, 'qpu_anneal_time_per_sample': 20.0, 'qpu_readout_time_per_sample': 30.94}, 'problem_id': '3f2dc82d-7be3-455f-9ade-a34536f56840'}\n([ 1,  1,  1, -1, -1,  1, -1,  1,  1, -1, -1,  1, -1,  1, -1, -1,  1,  1, -1,  1, -1, -1, -1, -1, -1, -1, -1,  1, -1, -1, -1,  1, -1, -1, -1, -1], -28., 1, 0.)\nEnergy =  -28.0\n{'timing': {'qpu_delay_time_per_sample': 21.02, 'post_processing_overhead_time': 30914.0, 'qpu_access_time': 69373.29, 'qpu_access_overhead_time': 0.0, 'qpu_programming_time': 68653.69, 'total_post_processing_time': 30914.0, 'qpu_sampling_time': 719.6, 'qpu_anneal_time_per_sample': 20.0, 'qpu_readout_time_per_sample': 30.94}, 'problem_id': '3f2dc82d-7be3-455f-9ade-a34536f56840'}\n([-1,  1,  1, -1,  1,  1,  1,  1,  1, -1, -1, -1, -1, -1, -1, -1,  1, -1,  1,  1, -1, -1, -1, -1,  1, -1, -1,  1, -1, -1, -1, -1, -1, -1, -1, -1], -28., 1, 0.)\nEnergy =  -25.0\n{'timing': {'qpu_delay_time_per_sample': 21.02, 'post_processing_overhead_time': 30914.0, 'qpu_access_time': 69373.29, 'qpu_access_overhead_time': 0.0, 'qpu_programming_time': 68653.69, 'total_post_processing_time': 30914.0, 'qpu_sampling_time': 719.6, 'qpu_anneal_time_per_sample': 20.0, 'qpu_readout_time_per_sample': 30.94}, 'problem_id': '3f2dc82d-7be3-455f-9ade-a34536f56840'}\n([ 1,  1,  1,  1,  1, -1,  1, -1, -1,  1, -1,  1, -1, -1, -1,  1,  1, -1,  1, -1,  1, -1, -1, -1, -1, -1, -1, -1, -1,  1, -1, -1, -1, -1, -1, -1], -25., 1, 0.02777778)\n"
     ]
    }
   ],
   "source": [
    "for j in range(len(results.record)):\n",
    "    out = open(outputname, 'a')\n",
    "    print(\"Energy = \", results.record[j][1])\n",
    "    print(results.info)\n",
    "    out.write(str(results.info)+\"\\t\"+str(len(results.record))+\"\\n\")\n",
    "    out.write(str(list(results.record[j][0]))+\"\\t\"+str(results.record[j][1])+\"\\n\")\n",
    "    print(results.record[j])\n",
    "    out.close()"
   ]
  },
  {
   "cell_type": "code",
   "execution_count": null,
   "metadata": {},
   "outputs": [],
   "source": []
  }
 ]
}